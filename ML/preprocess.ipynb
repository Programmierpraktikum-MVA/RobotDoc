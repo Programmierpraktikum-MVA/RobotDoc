{
 "cells": [
  {
   "cell_type": "code",
   "execution_count": 11,
   "metadata": {},
   "outputs": [
    {
     "name": "stdout",
     "output_type": "stream",
     "text": [
      "131\n"
     ]
    }
   ],
   "source": [
    "import csv\n",
    "import os\n",
    "\n",
    "def extract_words(csv_file):\n",
    "    word_dict = {}\n",
    "    word_dict['tokens']=[]\n",
    "    word_dict['tags']=[]\n",
    "    with open(csv_file, 'r') as file:\n",
    "        reader = csv.reader(file)\n",
    "        for idl, line in enumerate(reader):\n",
    "            if(idl!=0):\n",
    "                for id,word in enumerate(line):\n",
    "                  word = word.strip().replace('_',' ')  # Remove leading/trailing whitespace\n",
    "                  if word and word not in word_dict['tokens'] and id!=0 and word!=',':\n",
    "                       word_dict['tokens'].append( word)\n",
    "                       word_dict['tags'].append('B-Sign_symptom')\n",
    "        \n",
    "\n",
    "    return word_dict\n",
    "\n",
    "# Example usage\n",
    "csv_file_path = os.curdir+'/dataset.csv'  # Replace with your actual .csv file path\n",
    "result = extract_words(csv_file_path)\n",
    "print(len(result['tokens']))"
   ]
  },
  {
   "cell_type": "code",
   "execution_count": null,
   "metadata": {},
   "outputs": [],
   "source": [
    "def extract_age(txt_file):\n",
    "     with open(txt_file) as f:\n",
    "        lines = f.readlines()\n",
    "        for line in lines:\n",
    "                  token = []\n",
    "                  tags= []\n",
    "                  for id , word in enumerate(line.split(',')):\n",
    "                    if(id==0):\n",
    "                         token =word.strip().split(' ')\n",
    "                    else :\n",
    "                         tags.append(word.strip())\n",
    "                  word_dict['tokens'].append( token)\n",
    "                  word_dict['tags'].append(tags)     \n",
    "                         \n",
    "                    "
   ]
  }
 ],
 "metadata": {
  "kernelspec": {
   "display_name": "RoboDoc",
   "language": "python",
   "name": "python3"
  },
  "language_info": {
   "codemirror_mode": {
    "name": "ipython",
    "version": 3
   },
   "file_extension": ".py",
   "mimetype": "text/x-python",
   "name": "python",
   "nbconvert_exporter": "python",
   "pygments_lexer": "ipython3",
   "version": "3.9.16"
  },
  "orig_nbformat": 4
 },
 "nbformat": 4,
 "nbformat_minor": 2
}
