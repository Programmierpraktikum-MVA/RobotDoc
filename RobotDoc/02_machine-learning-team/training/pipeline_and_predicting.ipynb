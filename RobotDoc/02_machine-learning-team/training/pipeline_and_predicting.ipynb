{
  "cells": [
    {
      "cell_type": "code",
      "execution_count": 1,
      "metadata": {
        "colab": {
          "base_uri": "https://localhost:8080/"
        },
        "id": "tH5cL1hXWXi3",
        "outputId": "fb89b0f6-d173-4dba-f557-3a3c8650361c"
      },
      "outputs": [
        {
          "name": "stdout",
          "output_type": "stream",
          "text": [
            "Looking in indexes: https://pypi.org/simple, https://us-python.pkg.dev/colab-wheels/public/simple/\n",
            "Collecting scispacy\n",
            "  Downloading scispacy-0.5.2-py3-none-any.whl (45 kB)\n",
            "\u001b[2K     \u001b[90m━━━━━━━━━━━━━━━━━━━━━━━━━━━━━━━━━━━━━━━━\u001b[0m \u001b[32m45.1/45.1 kB\u001b[0m \u001b[31m4.1 MB/s\u001b[0m eta \u001b[36m0:00:00\u001b[0m\n",
            "\u001b[?25hCollecting spacy<3.5.0,>=3.4.0 (from scispacy)\n",
            "  Downloading spacy-3.4.4-cp310-cp310-manylinux_2_17_x86_64.manylinux2014_x86_64.whl (6.5 MB)\n",
            "\u001b[2K     \u001b[90m━━━━━━━━━━━━━━━━━━━━━━━━━━━━━━━━━━━━━━━━\u001b[0m \u001b[32m6.5/6.5 MB\u001b[0m \u001b[31m60.6 MB/s\u001b[0m eta \u001b[36m0:00:00\u001b[0m\n",
            "\u001b[?25hRequirement already satisfied: requests<3.0.0,>=2.0.0 in /usr/local/lib/python3.10/dist-packages (from scispacy) (2.27.1)\n",
            "Collecting conllu (from scispacy)\n",
            "  Downloading conllu-4.5.2-py2.py3-none-any.whl (16 kB)\n",
            "Requirement already satisfied: numpy in /usr/local/lib/python3.10/dist-packages (from scispacy) (1.22.4)\n",
            "Requirement already satisfied: joblib in /usr/local/lib/python3.10/dist-packages (from scispacy) (1.2.0)\n",
            "Collecting nmslib>=1.7.3.6 (from scispacy)\n",
            "  Downloading nmslib-2.1.1.tar.gz (188 kB)\n",
            "\u001b[2K     \u001b[90m━━━━━━━━━━━━━━━━━━━━━━━━━━━━━━━━━━━━━━\u001b[0m \u001b[32m188.7/188.7 kB\u001b[0m \u001b[31m23.2 MB/s\u001b[0m eta \u001b[36m0:00:00\u001b[0m\n",
            "\u001b[?25h  Preparing metadata (setup.py) ... \u001b[?25l\u001b[?25hdone\n",
            "Requirement already satisfied: scikit-learn>=0.20.3 in /usr/local/lib/python3.10/dist-packages (from scispacy) (1.2.2)\n",
            "Collecting pysbd (from scispacy)\n",
            "  Downloading pysbd-0.3.4-py3-none-any.whl (71 kB)\n",
            "\u001b[2K     \u001b[90m━━━━━━━━━━━━━━━━━━━━━━━━━━━━━━━━━━━━━━━━\u001b[0m \u001b[32m71.1/71.1 kB\u001b[0m \u001b[31m4.6 MB/s\u001b[0m eta \u001b[36m0:00:00\u001b[0m\n",
            "\u001b[?25hCollecting pybind11<2.6.2 (from nmslib>=1.7.3.6->scispacy)\n",
            "  Using cached pybind11-2.6.1-py2.py3-none-any.whl (188 kB)\n",
            "Requirement already satisfied: psutil in /usr/local/lib/python3.10/dist-packages (from nmslib>=1.7.3.6->scispacy) (5.9.5)\n",
            "Requirement already satisfied: urllib3<1.27,>=1.21.1 in /usr/local/lib/python3.10/dist-packages (from requests<3.0.0,>=2.0.0->scispacy) (1.26.15)\n",
            "Requirement already satisfied: certifi>=2017.4.17 in /usr/local/lib/python3.10/dist-packages (from requests<3.0.0,>=2.0.0->scispacy) (2022.12.7)\n",
            "Requirement already satisfied: charset-normalizer~=2.0.0 in /usr/local/lib/python3.10/dist-packages (from requests<3.0.0,>=2.0.0->scispacy) (2.0.12)\n",
            "Requirement already satisfied: idna<4,>=2.5 in /usr/local/lib/python3.10/dist-packages (from requests<3.0.0,>=2.0.0->scispacy) (3.4)\n",
            "Requirement already satisfied: scipy>=1.3.2 in /usr/local/lib/python3.10/dist-packages (from scikit-learn>=0.20.3->scispacy) (1.10.1)\n",
            "Requirement already satisfied: threadpoolctl>=2.0.0 in /usr/local/lib/python3.10/dist-packages (from scikit-learn>=0.20.3->scispacy) (3.1.0)\n",
            "Requirement already satisfied: spacy-legacy<3.1.0,>=3.0.10 in /usr/local/lib/python3.10/dist-packages (from spacy<3.5.0,>=3.4.0->scispacy) (3.0.12)\n",
            "Requirement already satisfied: spacy-loggers<2.0.0,>=1.0.0 in /usr/local/lib/python3.10/dist-packages (from spacy<3.5.0,>=3.4.0->scispacy) (1.0.4)\n",
            "Requirement already satisfied: murmurhash<1.1.0,>=0.28.0 in /usr/local/lib/python3.10/dist-packages (from spacy<3.5.0,>=3.4.0->scispacy) (1.0.9)\n",
            "Requirement already satisfied: cymem<2.1.0,>=2.0.2 in /usr/local/lib/python3.10/dist-packages (from spacy<3.5.0,>=3.4.0->scispacy) (2.0.7)\n",
            "Requirement already satisfied: preshed<3.1.0,>=3.0.2 in /usr/local/lib/python3.10/dist-packages (from spacy<3.5.0,>=3.4.0->scispacy) (3.0.8)\n",
            "Requirement already satisfied: thinc<8.2.0,>=8.1.0 in /usr/local/lib/python3.10/dist-packages (from spacy<3.5.0,>=3.4.0->scispacy) (8.1.9)\n",
            "Collecting wasabi<1.1.0,>=0.9.1 (from spacy<3.5.0,>=3.4.0->scispacy)\n",
            "  Downloading wasabi-0.10.1-py3-none-any.whl (26 kB)\n",
            "Requirement already satisfied: srsly<3.0.0,>=2.4.3 in /usr/local/lib/python3.10/dist-packages (from spacy<3.5.0,>=3.4.0->scispacy) (2.4.6)\n",
            "Requirement already satisfied: catalogue<2.1.0,>=2.0.6 in /usr/local/lib/python3.10/dist-packages (from spacy<3.5.0,>=3.4.0->scispacy) (2.0.8)\n",
            "Requirement already satisfied: typer<0.8.0,>=0.3.0 in /usr/local/lib/python3.10/dist-packages (from spacy<3.5.0,>=3.4.0->scispacy) (0.7.0)\n",
            "Requirement already satisfied: pathy>=0.3.5 in /usr/local/lib/python3.10/dist-packages (from spacy<3.5.0,>=3.4.0->scispacy) (0.10.1)\n",
            "Requirement already satisfied: smart-open<7.0.0,>=5.2.1 in /usr/local/lib/python3.10/dist-packages (from spacy<3.5.0,>=3.4.0->scispacy) (6.3.0)\n",
            "Requirement already satisfied: tqdm<5.0.0,>=4.38.0 in /usr/local/lib/python3.10/dist-packages (from spacy<3.5.0,>=3.4.0->scispacy) (4.65.0)\n",
            "Requirement already satisfied: pydantic!=1.8,!=1.8.1,<1.11.0,>=1.7.4 in /usr/local/lib/python3.10/dist-packages (from spacy<3.5.0,>=3.4.0->scispacy) (1.10.7)\n",
            "Requirement already satisfied: jinja2 in /usr/local/lib/python3.10/dist-packages (from spacy<3.5.0,>=3.4.0->scispacy) (3.1.2)\n",
            "Requirement already satisfied: setuptools in /usr/local/lib/python3.10/dist-packages (from spacy<3.5.0,>=3.4.0->scispacy) (67.7.2)\n",
            "Requirement already satisfied: packaging>=20.0 in /usr/local/lib/python3.10/dist-packages (from spacy<3.5.0,>=3.4.0->scispacy) (23.1)\n",
            "Requirement already satisfied: langcodes<4.0.0,>=3.2.0 in /usr/local/lib/python3.10/dist-packages (from spacy<3.5.0,>=3.4.0->scispacy) (3.3.0)\n",
            "Requirement already satisfied: typing-extensions>=4.2.0 in /usr/local/lib/python3.10/dist-packages (from pydantic!=1.8,!=1.8.1,<1.11.0,>=1.7.4->spacy<3.5.0,>=3.4.0->scispacy) (4.5.0)\n",
            "Requirement already satisfied: blis<0.8.0,>=0.7.8 in /usr/local/lib/python3.10/dist-packages (from thinc<8.2.0,>=8.1.0->spacy<3.5.0,>=3.4.0->scispacy) (0.7.9)\n",
            "Requirement already satisfied: confection<1.0.0,>=0.0.1 in /usr/local/lib/python3.10/dist-packages (from thinc<8.2.0,>=8.1.0->spacy<3.5.0,>=3.4.0->scispacy) (0.0.4)\n",
            "Requirement already satisfied: click<9.0.0,>=7.1.1 in /usr/local/lib/python3.10/dist-packages (from typer<0.8.0,>=0.3.0->spacy<3.5.0,>=3.4.0->scispacy) (8.1.3)\n",
            "Requirement already satisfied: MarkupSafe>=2.0 in /usr/local/lib/python3.10/dist-packages (from jinja2->spacy<3.5.0,>=3.4.0->scispacy) (2.1.2)\n",
            "Building wheels for collected packages: nmslib\n",
            "  Building wheel for nmslib (setup.py) ... \u001b[?25l\u001b[?25hdone\n",
            "  Created wheel for nmslib: filename=nmslib-2.1.1-cp310-cp310-linux_x86_64.whl size=13572131 sha256=96e7a644c763c888c038d21091a1de1b3ed8eeb42ae66d610bd8abbb9a927ea1\n",
            "  Stored in directory: /root/.cache/pip/wheels/21/1a/5d/4cc754a5b1a88405cad184b76f823897a63a8d19afcd4b9314\n",
            "Successfully built nmslib\n",
            "Installing collected packages: wasabi, pysbd, pybind11, conllu, nmslib, spacy, scispacy\n",
            "  Attempting uninstall: wasabi\n",
            "    Found existing installation: wasabi 1.1.1\n",
            "    Uninstalling wasabi-1.1.1:\n",
            "      Successfully uninstalled wasabi-1.1.1\n",
            "  Attempting uninstall: spacy\n",
            "    Found existing installation: spacy 3.5.2\n",
            "    Uninstalling spacy-3.5.2:\n",
            "      Successfully uninstalled spacy-3.5.2\n",
            "\u001b[31mERROR: pip's dependency resolver does not currently take into account all the packages that are installed. This behaviour is the source of the following dependency conflicts.\n",
            "en-core-web-sm 3.5.0 requires spacy<3.6.0,>=3.5.0, but you have spacy 3.4.4 which is incompatible.\u001b[0m\u001b[31m\n",
            "\u001b[0mSuccessfully installed conllu-4.5.2 nmslib-2.1.1 pybind11-2.6.1 pysbd-0.3.4 scispacy-0.5.2 spacy-3.4.4 wasabi-0.10.1\n",
            "Looking in indexes: https://pypi.org/simple, https://us-python.pkg.dev/colab-wheels/public/simple/\n",
            "Collecting https://s3-us-west-2.amazonaws.com/ai2-s2-scispacy/releases/v0.5.1/en_core_sci_sm-0.5.1.tar.gz\n",
            "  Downloading https://s3-us-west-2.amazonaws.com/ai2-s2-scispacy/releases/v0.5.1/en_core_sci_sm-0.5.1.tar.gz (15.9 MB)\n",
            "\u001b[2K     \u001b[90m━━━━━━━━━━━━━━━━━━━━━━━━━━━━━━━━━━━━━━━━\u001b[0m \u001b[32m15.9/15.9 MB\u001b[0m \u001b[31m43.0 MB/s\u001b[0m eta \u001b[36m0:00:00\u001b[0m\n",
            "\u001b[?25h  Preparing metadata (setup.py) ... \u001b[?25l\u001b[?25hdone\n",
            "Requirement already satisfied: spacy<3.5.0,>=3.4.1 in /usr/local/lib/python3.10/dist-packages (from en-core-sci-sm==0.5.1) (3.4.4)\n",
            "Requirement already satisfied: spacy-legacy<3.1.0,>=3.0.10 in /usr/local/lib/python3.10/dist-packages (from spacy<3.5.0,>=3.4.1->en-core-sci-sm==0.5.1) (3.0.12)\n",
            "Requirement already satisfied: spacy-loggers<2.0.0,>=1.0.0 in /usr/local/lib/python3.10/dist-packages (from spacy<3.5.0,>=3.4.1->en-core-sci-sm==0.5.1) (1.0.4)\n",
            "Requirement already satisfied: murmurhash<1.1.0,>=0.28.0 in /usr/local/lib/python3.10/dist-packages (from spacy<3.5.0,>=3.4.1->en-core-sci-sm==0.5.1) (1.0.9)\n",
            "Requirement already satisfied: cymem<2.1.0,>=2.0.2 in /usr/local/lib/python3.10/dist-packages (from spacy<3.5.0,>=3.4.1->en-core-sci-sm==0.5.1) (2.0.7)\n",
            "Requirement already satisfied: preshed<3.1.0,>=3.0.2 in /usr/local/lib/python3.10/dist-packages (from spacy<3.5.0,>=3.4.1->en-core-sci-sm==0.5.1) (3.0.8)\n",
            "Requirement already satisfied: thinc<8.2.0,>=8.1.0 in /usr/local/lib/python3.10/dist-packages (from spacy<3.5.0,>=3.4.1->en-core-sci-sm==0.5.1) (8.1.9)\n",
            "Requirement already satisfied: wasabi<1.1.0,>=0.9.1 in /usr/local/lib/python3.10/dist-packages (from spacy<3.5.0,>=3.4.1->en-core-sci-sm==0.5.1) (0.10.1)\n",
            "Requirement already satisfied: srsly<3.0.0,>=2.4.3 in /usr/local/lib/python3.10/dist-packages (from spacy<3.5.0,>=3.4.1->en-core-sci-sm==0.5.1) (2.4.6)\n",
            "Requirement already satisfied: catalogue<2.1.0,>=2.0.6 in /usr/local/lib/python3.10/dist-packages (from spacy<3.5.0,>=3.4.1->en-core-sci-sm==0.5.1) (2.0.8)\n",
            "Requirement already satisfied: typer<0.8.0,>=0.3.0 in /usr/local/lib/python3.10/dist-packages (from spacy<3.5.0,>=3.4.1->en-core-sci-sm==0.5.1) (0.7.0)\n",
            "Requirement already satisfied: pathy>=0.3.5 in /usr/local/lib/python3.10/dist-packages (from spacy<3.5.0,>=3.4.1->en-core-sci-sm==0.5.1) (0.10.1)\n",
            "Requirement already satisfied: smart-open<7.0.0,>=5.2.1 in /usr/local/lib/python3.10/dist-packages (from spacy<3.5.0,>=3.4.1->en-core-sci-sm==0.5.1) (6.3.0)\n",
            "Requirement already satisfied: tqdm<5.0.0,>=4.38.0 in /usr/local/lib/python3.10/dist-packages (from spacy<3.5.0,>=3.4.1->en-core-sci-sm==0.5.1) (4.65.0)\n",
            "Requirement already satisfied: numpy>=1.15.0 in /usr/local/lib/python3.10/dist-packages (from spacy<3.5.0,>=3.4.1->en-core-sci-sm==0.5.1) (1.22.4)\n",
            "Requirement already satisfied: requests<3.0.0,>=2.13.0 in /usr/local/lib/python3.10/dist-packages (from spacy<3.5.0,>=3.4.1->en-core-sci-sm==0.5.1) (2.27.1)\n",
            "Requirement already satisfied: pydantic!=1.8,!=1.8.1,<1.11.0,>=1.7.4 in /usr/local/lib/python3.10/dist-packages (from spacy<3.5.0,>=3.4.1->en-core-sci-sm==0.5.1) (1.10.7)\n",
            "Requirement already satisfied: jinja2 in /usr/local/lib/python3.10/dist-packages (from spacy<3.5.0,>=3.4.1->en-core-sci-sm==0.5.1) (3.1.2)\n",
            "Requirement already satisfied: setuptools in /usr/local/lib/python3.10/dist-packages (from spacy<3.5.0,>=3.4.1->en-core-sci-sm==0.5.1) (67.7.2)\n",
            "Requirement already satisfied: packaging>=20.0 in /usr/local/lib/python3.10/dist-packages (from spacy<3.5.0,>=3.4.1->en-core-sci-sm==0.5.1) (23.1)\n",
            "Requirement already satisfied: langcodes<4.0.0,>=3.2.0 in /usr/local/lib/python3.10/dist-packages (from spacy<3.5.0,>=3.4.1->en-core-sci-sm==0.5.1) (3.3.0)\n",
            "Requirement already satisfied: typing-extensions>=4.2.0 in /usr/local/lib/python3.10/dist-packages (from pydantic!=1.8,!=1.8.1,<1.11.0,>=1.7.4->spacy<3.5.0,>=3.4.1->en-core-sci-sm==0.5.1) (4.5.0)\n",
            "Requirement already satisfied: urllib3<1.27,>=1.21.1 in /usr/local/lib/python3.10/dist-packages (from requests<3.0.0,>=2.13.0->spacy<3.5.0,>=3.4.1->en-core-sci-sm==0.5.1) (1.26.15)\n",
            "Requirement already satisfied: certifi>=2017.4.17 in /usr/local/lib/python3.10/dist-packages (from requests<3.0.0,>=2.13.0->spacy<3.5.0,>=3.4.1->en-core-sci-sm==0.5.1) (2022.12.7)\n",
            "Requirement already satisfied: charset-normalizer~=2.0.0 in /usr/local/lib/python3.10/dist-packages (from requests<3.0.0,>=2.13.0->spacy<3.5.0,>=3.4.1->en-core-sci-sm==0.5.1) (2.0.12)\n",
            "Requirement already satisfied: idna<4,>=2.5 in /usr/local/lib/python3.10/dist-packages (from requests<3.0.0,>=2.13.0->spacy<3.5.0,>=3.4.1->en-core-sci-sm==0.5.1) (3.4)\n",
            "Requirement already satisfied: blis<0.8.0,>=0.7.8 in /usr/local/lib/python3.10/dist-packages (from thinc<8.2.0,>=8.1.0->spacy<3.5.0,>=3.4.1->en-core-sci-sm==0.5.1) (0.7.9)\n",
            "Requirement already satisfied: confection<1.0.0,>=0.0.1 in /usr/local/lib/python3.10/dist-packages (from thinc<8.2.0,>=8.1.0->spacy<3.5.0,>=3.4.1->en-core-sci-sm==0.5.1) (0.0.4)\n",
            "Requirement already satisfied: click<9.0.0,>=7.1.1 in /usr/local/lib/python3.10/dist-packages (from typer<0.8.0,>=0.3.0->spacy<3.5.0,>=3.4.1->en-core-sci-sm==0.5.1) (8.1.3)\n",
            "Requirement already satisfied: MarkupSafe>=2.0 in /usr/local/lib/python3.10/dist-packages (from jinja2->spacy<3.5.0,>=3.4.1->en-core-sci-sm==0.5.1) (2.1.2)\n",
            "Building wheels for collected packages: en-core-sci-sm\n",
            "  Building wheel for en-core-sci-sm (setup.py) ... \u001b[?25l\u001b[?25hdone\n",
            "  Created wheel for en-core-sci-sm: filename=en_core_sci_sm-0.5.1-py3-none-any.whl size=15870856 sha256=bbda80eeae3b20e3082eda6ced2fac1db3a269922884c295aa400142cba9994b\n",
            "  Stored in directory: /root/.cache/pip/wheels/35/8f/33/4c20916692704167c1d78c3f11e7deff5b7c2ba4875eacf648\n",
            "Successfully built en-core-sci-sm\n",
            "Installing collected packages: en-core-sci-sm\n",
            "Successfully installed en-core-sci-sm-0.5.1\n"
          ]
        }
      ],
      "source": [
        "pip install scispacy\n",
        "pip install https://s3-us-west-2.amazonaws.com/ai2-s2-scispacy/releases/v0.5.1/en_core_sci_sm-0.5.1.tar.gz\n",
        "\n"
      ]
    },
    {
      "cell_type": "code",
      "execution_count": 127,
      "metadata": {
        "id": "cdk2TSFv6_OO"
      },
      "outputs": [],
      "source": []
    },
    {
      "cell_type": "code",
      "execution_count": 129,
      "metadata": {
        "colab": {
          "base_uri": "https://localhost:8080/"
        },
        "id": "xtA0u_k0Kbzk",
        "outputId": "e2f42500-412a-46c0-93e3-fa9189d57af6"
      },
      "outputs": [
        {
          "name": "stdout",
          "output_type": "stream",
          "text": [
            "Mounted at /content/drive\n"
          ]
        }
      ],
      "source": [
        "#connect to the ggdrive\n",
        "from google.colab import drive\n",
        "drive.mount('/content/drive')"
      ]
    },
    {
      "cell_type": "code",
      "execution_count": 1,
      "metadata": {
        "id": "2C4jRXZUXNDq"
      },
      "outputs": [
        {
          "name": "stderr",
          "output_type": "stream",
          "text": [
            "/Users/matthieudecotignie/opt/miniconda3/envs/RoboDoc/lib/python3.9/site-packages/tqdm/auto.py:21: TqdmWarning: IProgress not found. Please update jupyter and ipywidgets. See https://ipywidgets.readthedocs.io/en/stable/user_install.html\n",
            "  from .autonotebook import tqdm as notebook_tqdm\n",
            "2023-07-11 18:42:22.960665: I tensorflow/core/platform/cpu_feature_guard.cc:193] This TensorFlow binary is optimized with oneAPI Deep Neural Network Library (oneDNN) to use the following CPU instructions in performance-critical operations:  SSE4.1 SSE4.2 AVX AVX2 AVX512F AVX512_VNNI FMA\n",
            "To enable them in other operations, rebuild TensorFlow with the appropriate compiler flags.\n",
            "Your CPU supports instructions that this binary was not compiled to use: AVX2\n",
            "For maximum performance, you can install NMSLIB from sources \n",
            "pip install --no-binary :all: nmslib\n"
          ]
        }
      ],
      "source": [
        "import spacy\n",
        "import scispacy\n",
        "import tensorflow as tf\n",
        "import itertools\n",
        "import random\n",
        "import numpy as np \n",
        "from scispacy.linking import EntityLinker\n",
        "\n"
      ]
    },
    {
      "cell_type": "code",
      "execution_count": 2,
      "metadata": {
        "colab": {
          "base_uri": "https://localhost:8080/"
        },
        "id": "Zav-ZKg9i8HK",
        "outputId": "f221f258-4a7d-4c46-8e51-6ba2056fb5e8"
      },
      "outputs": [
        {
          "name": "stderr",
          "output_type": "stream",
          "text": [
            "/Users/matthieudecotignie/opt/miniconda3/envs/RoboDoc/lib/python3.9/site-packages/sklearn/base.py:318: UserWarning: Trying to unpickle estimator TfidfTransformer from version 1.1.2 when using version 1.2.2. This might lead to breaking code or invalid results. Use at your own risk. For more info please refer to:\n",
            "https://scikit-learn.org/stable/model_persistence.html#security-maintainability-limitations\n",
            "  warnings.warn(\n",
            "/Users/matthieudecotignie/opt/miniconda3/envs/RoboDoc/lib/python3.9/site-packages/sklearn/base.py:318: UserWarning: Trying to unpickle estimator TfidfVectorizer from version 1.1.2 when using version 1.2.2. This might lead to breaking code or invalid results. Use at your own risk. For more info please refer to:\n",
            "https://scikit-learn.org/stable/model_persistence.html#security-maintainability-limitations\n",
            "  warnings.warn(\n"
          ]
        }
      ],
      "source": [
        "nlp = spacy.load(\"en_core_sci_sm\")\n",
        "nlp.add_pipe(\"scispacy_linker\", config={\"resolve_abbreviations\": True, \"linker_name\": \"umls\"})\n",
        "linker = nlp.get_pipe(\"scispacy_linker\")\n"
      ]
    },
    {
      "cell_type": "code",
      "execution_count": 3,
      "metadata": {
        "id": "xBqd8z4ti9w0"
      },
      "outputs": [],
      "source": [
        "\n",
        "# Return a list of triplet tuples (UMLS concept ID, UMLS Canonical Name, Match score) for each entity that is in the given list of UMLS types\n",
        "def filter_entities_by_types_group(umls_entities_list: list, type_group: list) -> list:\n",
        "    return [(umls_entities_list[0][0].concept_id, umls_entities_list[0][0].canonical_name, umls_entities_list[0][1]) ]"
      ]
    },
    {
      "cell_type": "code",
      "execution_count": 4,
      "metadata": {
        "id": "Vw58WnI_bneW"
      },
      "outputs": [],
      "source": [
        "def extract_umls_entities(kb_ents: list) -> list:\n",
        "    # 1. T184 Sign or Symptom - return ALL and not only the first\n",
        "    type_group_1 = ['T184']\n",
        "\n",
        "    # 2. T037 Injury or Poisoning\n",
        "    type_group_2 = ['T037']\n",
        "\n",
        "    # 3. T004 Fungus | T005 Virus | T007 Bacterium | T033 Finding | T034 Laboratory or Test Result | T048 Mental or Behavioral Dysfunction\n",
        "    type_group_3 = ['T004', 'T005', 'T007', 'T033', 'T034', 'T048']\n",
        "\n",
        "    # 4. T047 Disease or Syndrome | T121 Pharmacologic Substance | T131 Hazardous or Poisonous Substance\n",
        "    type_group_4 = ['T047', 'T121', 'T131']\n",
        "\n",
        "    # Extract the UMLS Entities from each CUI value\n",
        "    umls_entities_list = list(map(lambda ent: (linker.kb.cui_to_entity[ent[0]], ent[1]), kb_ents))\n",
        "\n",
        "    type_1_matches_list = filter_entities_by_types_group(umls_entities_list, type_group_1)\n",
        "    type_2_matches_list = []\n",
        "    type_3_matches_list = []\n",
        "    type_4_matches_list = []\n",
        "\n",
        "    if not type_1_matches_list:\n",
        "        type_2_matches_list = filter_entities_by_types_group(umls_entities_list, type_group_2)\n",
        "\n",
        "        if not type_2_matches_list:\n",
        "            type_3_matches_list = filter_entities_by_types_group(umls_entities_list, type_group_3)\n",
        "\n",
        "        if not type_3_matches_list:\n",
        "            type_4_matches_list = filter_entities_by_types_group(umls_entities_list, type_group_4)\n",
        "\n",
        "    secondary_matches_list = list(itertools.chain(type_2_matches_list, type_3_matches_list, type_4_matches_list))\n",
        "\n",
        "    best_fit_secondary_value = 0\n",
        "    best_fit_secondary_tuple = False\n",
        "\n",
        "    # Keep only one secondary match at the most (the one with the best match value)\n",
        "    for match in secondary_matches_list:\n",
        "        if match[2] > best_fit_secondary_value:\n",
        "            best_fit_secondary_tuple = match\n",
        "            best_fit_secondary_value = match[2]\n",
        "\n",
        "    if best_fit_secondary_tuple:\n",
        "        type_1_matches_list.append(best_fit_secondary_tuple)\n",
        "\n",
        "    return type_1_matches_list\n",
        "\n",
        "\n"
      ]
    },
    {
      "cell_type": "code",
      "execution_count": 5,
      "metadata": {
        "id": "Jvl_ahshs0DY"
      },
      "outputs": [],
      "source": [
        "\n",
        "def find_similarity(complaint_str: str)->list:\n",
        "    if not isinstance(complaint_str, str):\n",
        "        return [], []\n",
        "\n",
        "    umls_entity_list = []\n",
        "    complaint_str_parenthesis = '\"{}\"'.format(complaint_str)\n",
        "    doc = nlp(complaint_str_parenthesis)\n",
        "    for ent in doc.ents:\n",
        "        if len(ent._.kb_ents) > 0 and len(ent._.kb_ents[0]) > 0:\n",
        "            most_similar_list = extract_umls_entities(ent._.kb_ents)\n",
        "            umls_entity_list+=most_similar_list\n",
        "\n",
        "    return umls_entity_list"
      ]
    },
    {
      "cell_type": "code",
      "execution_count": 128,
      "metadata": {
        "id": "_Fq0uqR3eSX_"
      },
      "outputs": [],
      "source": [
        "def symp_to_umls(symp_arr: list)-> list:\n",
        "  umls=[]\n",
        "  tuples =find_similarity('/ ' +\" / \".join(symp_arr)+' /' )\n",
        "  for tuple in tuples:\n",
        "    umls.append(tuple[0])\n",
        "  return umls"
      ]
    },
    {
      "cell_type": "code",
      "execution_count": 7,
      "metadata": {},
      "outputs": [],
      "source": [
        "def symp_to_umlsV2(symp_arr: list)-> list:\n",
        "  cleanSymp = [sub.strip().replace('_', ' ') for sub in symp_arr]\n",
        "\n",
        "  umls=[]\n",
        "  for s in cleanSymp:\n",
        "    subumls=[]\n",
        "    tuples=find_similarity('/ '+s+' /')\n",
        "    for tuple in tuples:\n",
        "     subumls.append(tuple[0])\n",
        "    umls.append(subumls)\n",
        "  return umls"
      ]
    },
    {
      "cell_type": "code",
      "execution_count": null,
      "metadata": {},
      "outputs": [],
      "source": []
    },
    {
      "cell_type": "code",
      "execution_count": 9,
      "metadata": {},
      "outputs": [
        {
          "data": {
            "text/plain": [
              "[['C0000737'],\n",
              " ['C0205161', 'C0025344'],\n",
              " ['C0018834'],\n",
              " ['C0205178'],\n",
              " ['C0392747', 'C0234425'],\n",
              " ['C0003467'],\n",
              " ['C0004604'],\n",
              " ['C0224086'],\n",
              " ['C0333128'],\n",
              " ['C0005682', 'C2364135'],\n",
              " ['C0005758'],\n",
              " ['C0005767', 'C0038056'],\n",
              " ['C0018932'],\n",
              " ['C0344232', 'C0700135', 'C0042789'],\n",
              " ['C0013404'],\n",
              " ['C0439657', 'C0027342'],\n",
              " ['C0009938'],\n",
              " ['C0085624', 'C0042034'],\n",
              " ['C0008031'],\n",
              " ['C0085593'],\n",
              " ['C0424740', 'C0016504'],\n",
              " ['C0009421'],\n",
              " ['C0700148'],\n",
              " ['C0009806'],\n",
              " ['C0549178', 'C0042036'],\n",
              " ['C0549178', 'C0037383'],\n",
              " ['C0010200'],\n",
              " ['C0026821'],\n",
              " ['C0332582', 'C0042036'],\n",
              " ['C0011175'],\n",
              " ['C0011570'],\n",
              " ['C0011991'],\n",
              " [],\n",
              " ['C0012359', 'C0000726'],\n",
              " ['C0012833'],\n",
              " ['C0011682', 'C0877487'],\n",
              " ['C0442800', 'C0040132'],\n",
              " ['C0442802', 'C0020175'],\n",
              " [],\n",
              " ['C0241889'],\n",
              " ['C0039231'],\n",
              " ['C0015672'],\n",
              " ['C0302908', 'C0020488'],\n",
              " ['C0018520', 'C0042036'],\n",
              " ['C0018681'],\n",
              " ['C0205250', 'C0015967'],\n",
              " ['C0019559'],\n",
              " ['C0019664', 'C0001948'],\n",
              " ['C0205217', 'C0003618'],\n",
              " ['C0013395'],\n",
              " ['C0333348', 'C0027342'],\n",
              " ['C0033774'],\n",
              " ['C0205271', 'C0007004'],\n",
              " ['C0022107'],\n",
              " ['C0441723', 'C0003461'],\n",
              " ['C0003862'],\n",
              " ['C0231749'],\n",
              " ['C0332268', 'C0086045'],\n",
              " ['C0023380'],\n",
              " ['C0003123'],\n",
              " ['C1517945', 'C0014653'],\n",
              " ['C1517945', 'C0037361'],\n",
              " ['C0231218'],\n",
              " ['C1547225', 'C0015967'],\n",
              " ['C0085633'],\n",
              " ['C0026649', 'C0427008'],\n",
              " ['C0205295', 'C0038056'],\n",
              " ['C0231528'],\n",
              " ['C0026845', 'C0006625'],\n",
              " ['C0030552'],\n",
              " ['C0027497'],\n",
              " ['C0007859'],\n",
              " ['C0443268'],\n",
              " ['C0028754'],\n",
              " ['C0030193', 'C0015392'],\n",
              " ['C0030193', 'C0021853', 'C0026649'],\n",
              " ['C0030193', 'C1275631'],\n",
              " ['C0030193', 'C0080331'],\n",
              " ['C0030252'],\n",
              " ['C0439799', 'C0017110'],\n",
              " ['C0994894', 'C0031354'],\n",
              " ['C0225378'],\n",
              " ['C0032617'],\n",
              " ['C0205402', 'C0230445'],\n",
              " ['C0332601', 'C0015450', 'C0015392'],\n",
              " ['C0034161', 'C1708059', 'C0542346'],\n",
              " ['C1514756', 'C0005841'],\n",
              " ['C1514756', 'C0021485'],\n",
              " ['C0234233', 'C0028429'],\n",
              " ['C0015230', 'C0242821'],\n",
              " ['C0041834', 'C0015392'],\n",
              " ['C0085631'],\n",
              " ['C1260880', 'C0028429'],\n",
              " ['C0577982'],\n",
              " ['C0034897'],\n",
              " ['C0036973'],\n",
              " ['C0037125', 'C0563970'],\n",
              " ['C0848633'],\n",
              " ['C0237849'],\n",
              " ['C0015230'],\n",
              " ['C0234518', 'C0037817'],\n",
              " ['C0700321', 'C1413454', 'C0027342'],\n",
              " ['C0042571', 'C0026649'],\n",
              " ['C0025874', 'C0042034'],\n",
              " ['C0151315'],\n",
              " ['C0038351', 'C0019080'],\n",
              " ['C0000737'],\n",
              " ['C0423224', 'C0015392'],\n",
              " ['C0038990'],\n",
              " ['C0038999', 'C0024204'],\n",
              " ['C0152031'],\n",
              " ['C0013604', 'C0038351'],\n",
              " ['C0038999', 'C0005847'],\n",
              " ['C0038999', 'C0015385'],\n",
              " ['C0038999', 'C1140621'],\n",
              " ['C0031354', 'C0441723'],\n",
              " [],\n",
              " ['C0041582', 'C0040408'],\n",
              " ['C0427108'],\n",
              " ['C0547030'],\n",
              " ['C0042963'],\n",
              " ['C0043047', 'C0015392'],\n",
              " ['C0004093', 'C0015385'],\n",
              " ['C0004093', 'C0441987'],\n",
              " ['C0043094'],\n",
              " ['C1262477'],\n",
              " [],\n",
              " ['C0221205', 'C0042036'],\n",
              " ['C0240962', 'C0015392'],\n",
              " ['C0014448', 'C0444099'],\n",
              " ['C0033774']]"
            ]
          },
          "execution_count": 9,
          "metadata": {},
          "output_type": "execute_result"
        }
      ],
      "source": [
        "possible_symp = [' abdominal pain', ' abnormal menstruation', ' acidity', ' acute_liver_failure', ' altered_sensorium', ' anxiety', ' back_pain', ' belly_pain', ' blackheads', ' bladder_discomfort', ' blister', ' blood_in_sputum', ' bloody_stool', ' blurred_and_distorted_vision', ' breathlessness', ' brittle_nails', ' bruising', ' burning_micturition', ' chest_pain', ' chills', ' cold_hands_and_feets', ' coma', ' congestion', ' constipation', ' continuous_feel_of_urine', ' continuous_sneezing', ' cough', ' cramps', ' dark_urine', ' dehydration', ' depression', ' diarrhoea', ' dischromic _patches', ' distention_of_abdomen', ' dizziness', ' drying_and_tingling_lips', ' enlarged_thyroid', ' excessive_hunger', ' extra_marital_contacts', ' family_history', ' fast_heart_rate', ' fatigue', ' fluid_overload', ' foul_smell_of urine', ' headache', ' high_fever', ' hip_joint_pain', ' history_of_alcohol_consumption', ' increased_appetite', ' indigestion', ' inflammatory_nails', ' internal_itching', ' irregular_sugar_level', ' irritability', ' irritation_in_anus', ' joint_pain', ' knee_pain', ' lack_of_concentration', ' lethargy', ' loss_of_appetite', ' loss_of_balance', ' loss_of_smell', ' malaise', ' mild_fever', ' mood_swings', ' movement_stiffness', ' mucoid_sputum', ' muscle_pain', ' muscle_wasting', ' muscle_weakness', ' nausea', ' neck_pain', ' nodal_skin_eruptions', ' obesity', ' pain_behind_the_eyes', ' pain_during_bowel_movements', ' pain_in_anal_region', ' painful_walking', ' palpitations', ' passage_of_gases', ' patches_in_throat', ' phlegm', ' polyuria', ' prominent_veins_on_calf', ' puffy_face_and_eyes', ' pus_filled_pimples', ' receiving_blood_transfusion', ' receiving_unsterile_injections', ' red_sore_around_nose', ' red_spots_over_body', ' redness_of_eyes', ' restlessness', ' runny_nose', ' rusty_sputum', ' scurring', ' shivering', ' silver_like_dusting', ' sinus_pressure', ' skin_peeling', ' skin_rash', ' slurred_speech', ' small_dents_in_nails', ' spinning_movements', ' spotting_ urination', ' stiff_neck', ' stomach_bleeding', ' stomach_pain', ' sunken_eyes', ' sweating', ' swelled_lymph_nodes', ' swelling_joints', ' swelling_of_stomach', ' swollen_blood_vessels', ' swollen_extremeties', ' swollen_legs', ' throat_irritation', ' toxic_look_(typhos)', ' ulcers_on_tongue', ' unsteadiness', ' visual_disturbances', ' vomiting', ' watering_from_eyes', ' weakness_in_limbs', ' weakness_of_one_body_side', ' weight_gain', 'weight loss', ' yellow crust ooze', ' yellow urine', ' yellowing of eyes', ' yellowish skin', 'itching']\n",
        "\n",
        "symp_to_umlsV2(possible_symp)"
      ]
    },
    {
      "cell_type": "code",
      "execution_count": 71,
      "metadata": {
        "colab": {
          "base_uri": "https://localhost:8080/"
        },
        "id": "BBsr-4uInomN",
        "outputId": "8e2455ed-9de0-4948-bef9-b1ba7ceeaecb"
      },
      "outputs": [
        {
          "name": "stdout",
          "output_type": "stream",
          "text": [
            "['C0000726', 'C0000737', 'C0000737', 'C0001948', 'C0003123', 'C0003126', 'C0003461', 'C0003467', 'C0003618', 'C0003862', 'C0004093', 'C0004093', 'C0004604', 'C0005682', 'C0005758', 'C0005767', 'C0005841', 'C0005847', 'C0006625', 'C0007004', 'C0007859', 'C0008031', 'C0009421', 'C0009806', 'C0009938', 'C0010200', 'C0011175', 'C0011570', 'C0011682', 'C0011991', 'C0012359', 'C0012833', 'C0013395', 'C0013404', 'C0013604', 'C0014448', 'C0014653', 'C0015230', 'C0015230', 'C0015385', 'C0015385', 'C0015392', 'C0015392', 'C0015392', 'C0015392', 'C0015392', 'C0015392', 'C0015450', 'C0015672', 'C0015967', 'C0016504', 'C0017110', 'C0018681', 'C0018834', 'C0018932', 'C0019080', 'C0019559', 'C0019664', 'C0020175', 'C0020488', 'C0021485', 'C0021853', 'C0022107', 'C0023380', 'C0024204', 'C0025344', 'C0025874', 'C0026649', 'C0026649', 'C0026649', 'C0026821', 'C0026845', 'C0027342', 'C0027342', 'C0027342', 'C0027497', 'C0028429', 'C0028429', 'C0028754', 'C0030193', 'C0030193', 'C0030193', 'C0030193', 'C0030252', 'C0030552', 'C0031354', 'C0031354', 'C0032617', 'C0033774', 'C0033774', 'C0034161', 'C0034897', 'C0036973', 'C0037125', 'C0037383', 'C0037817', 'C0038056', 'C0038056', 'C0038351', 'C0038351', 'C0038990', 'C0038999', 'C0038999', 'C0038999', 'C0038999', 'C0039231', 'C0040132', 'C0040408', 'C0041582', 'C0041834', 'C0042034', 'C0042034', 'C0042036', 'C0042036', 'C0042036', 'C0042036', 'C0042571', 'C0042789', 'C0042963', 'C0043047', 'C0043094', 'C0080331', 'C0085593', 'C0085624', 'C0085631', 'C0085633', 'C0086045', 'C0151315', 'C0152031', 'C0162557', 'C0205161', 'C0205217', 'C0205250', 'C0205271', 'C0205295', 'C0205402', 'C0221205', 'C0224086', 'C0225378', 'C0230445', 'C0231218', 'C0231528', 'C0231749', 'C0234233', 'C0234425', 'C0234518', 'C0237849', 'C0239574', 'C0240962', 'C0241889', 'C0242821', 'C0302908', 'C0332268', 'C0332582', 'C0332601', 'C0333128', 'C0333348', 'C0344232', 'C0392747', 'C0423224', 'C0424740', 'C0427008', 'C0427108', 'C0439657', 'C0439799', 'C0441723', 'C0441723', 'C0441889', 'C0441987', 'C0442800', 'C0442802', 'C0443268', 'C0444099', 'C0542346', 'C0547030', 'C0549178', 'C0549178', 'C0563970', 'C0577982', 'C0700135', 'C0700148', 'C0700321', 'C0848633', 'C0877487', 'C0994894', 'C1140621', 'C1260880', 'C1262477', 'C1275631', 'C1413454', 'C1514756', 'C1514756', 'C1517945', 'C1708059', 'C2364135']\n"
          ]
        }
      ],
      "source": [
        "possible_symp = ['itching', 'skin rash', 'nodal skin eruptions', 'dischromic  patches', 'continuous sneezing', 'shivering', 'chills', 'watering from eyes', 'stomach pain', 'acidity', 'ulcers on tongue', 'vomiting', 'cough', 'chest pain', 'yellowish skin', 'nausea', 'loss of appetite', 'abdominal pain', 'yellowing of eyes', 'burning micturition', 'spotting  urination', 'passage of gases', 'internal itching', 'indigestion', 'muscle wasting', 'patches in throat', 'high fever', 'extra marital contacts', 'fatigue', 'weight loss', 'restlessness', 'lethargy', 'irregular sugar level', 'blurred and distorted vision', 'obesity', 'excessive hunger', 'increased appetite', 'polyuria', 'sunken eyes', 'dehydration', 'diarrhoea', 'breathlessness', 'family history', 'mucoid sputum', 'headache', 'dizziness', 'loss of balance', 'lack of concentration', 'stiff neck', 'depression', 'irritability', 'visual disturbances', 'back pain', 'weakness in limbs', 'neck pain', 'weakness of one body side', 'altered sensorium', 'dark urine', 'sweating', 'muscle pain', 'mild fever', 'swelled lymph nodes', 'malaise', 'red spots over body', 'joint pain', 'pain behind the eyes', 'constipation', 'toxic look (typhos)', 'belly pain', 'yellow urine', 'receiving blood transfusion', 'receiving unsterile injections', 'coma', 'stomach bleeding', 'acute liver failure', 'swelling of stomach', 'distention of abdomen', 'history of alcohol consumption', 'fluid overload', 'phlegm', 'blood in sputum', 'throat irritation', 'redness of eyes', 'sinus pressure', 'runny nose', 'congestion', 'loss of smell', 'fast heart rate', 'rusty sputum', 'pain during bowel movements', 'pain in anal region', 'bloody stool', 'irritation in anus', 'cramps', 'bruising', 'swollen legs', 'swollen blood vessels', 'prominent veins on calf', 'weight gain', 'cold hands and feets', 'mood swings', 'puffy face and eyes', 'enlarged thyroid', 'brittle nails', 'swollen extremeties', 'abnormal menstruation', 'muscle weakness', 'anxiety', 'slurred speech', 'palpitations', 'drying and tingling lips', 'knee pain', 'hip joint pain', 'swelling joints', 'painful walking', 'movement stiffness', 'spinning movements', 'unsteadiness', 'pus filled pimples', 'blackheads', 'scurring', 'bladder discomfort', 'foul smell of urine', 'continuous feel of urine', 'skin peeling', 'silver like dusting', 'small dents in nails', 'inflammatory nails', 'blister', 'red sore around nose', 'yellow crust ooze']\n",
        "possible_symp_umls = sorted(symp_to_umls(possible_symp))"
      ]
    },
    {
      "cell_type": "code",
      "execution_count": 136,
      "metadata": {
        "id": "dRPRrDA0mzqK"
      },
      "outputs": [],
      "source": [
        "#d is the output dictionary from the NLP\n",
        "def pipeline(d):\n",
        "    symp = d['symptoms']\n",
        "    output_vector = [0] * len(possible_symp_umls)\n",
        "    for i in range(len(symp)+2):\n",
        "      random.shuffle(symp)\n",
        "      umls_vector = symp_to_umls(symp)\n",
        "      for word in umls_vector:\n",
        "          if word in possible_symp_umls:\n",
        "              index = possible_symp_umls.index(word)\n",
        "              output_vector[index] = 1\n",
        "    return output_vector\n",
        "  \n",
        "  \n"
      ]
    },
    {
      "cell_type": "code",
      "execution_count": 130,
      "metadata": {
        "id": "Nd2t2jcJJr8y"
      },
      "outputs": [],
      "source": [
        "#loads rasan first predicting model\n",
        "new_model = tf.keras.models.load_model('/content/drive/My Drive/ML/model_config')\n"
      ]
    },
    {
      "cell_type": "code",
      "execution_count": 141,
      "metadata": {
        "id": "UjvoZO0gMtvc"
      },
      "outputs": [],
      "source": [
        "#diseases dict\n",
        "diseases=['(vertigo) Paroymsal  Positional Vertigo', 'AIDS', 'Acne', 'Alcoholic hepatitis', 'Allergy', 'Arthritis', 'Bronchial Asthma', 'Cervical spondylosis', 'Chicken pox', 'Chronic cholestasis', 'Common Cold', 'Dengue', 'Diabetes ', 'Dimorphic hemmorhoids(piles)', 'Drug Reaction', 'Fungal infection', 'GERD', 'Gastroenteritis', 'Heart attack', 'Hepatitis B', 'Hepatitis C', 'Hepatitis D', 'Hepatitis E', 'Hypertension ', 'Hyperthyroidism', 'Hypoglycemia', 'Hypothyroidism', 'Impetigo', 'Jaundice', 'Malaria', 'Migraine', 'Osteoarthristis', 'Paralysis (brain hemorrhage)', 'Peptic ulcer diseae', 'Pneumonia', 'Psoriasis', 'Tuberculosis', 'Typhoid', 'Urinary tract infection', 'Varicose veins', 'hepatitis A']"
      ]
    },
    {
      "cell_type": "code",
      "execution_count": 183,
      "metadata": {
        "id": "QJXm6NGuMsC9"
      },
      "outputs": [],
      "source": [
        "def decode_one_hot(pred):\n",
        "  index = np.argmax(np.array(pred), axis=-1)\n",
        "  print(diseases[index]+ \"     Probability :\"+str(pred[index]*100))\n",
        "  \n",
        " \n"
      ]
    },
    {
      "cell_type": "code",
      "execution_count": 196,
      "metadata": {
        "id": "xTqL8l44K77E"
      },
      "outputs": [],
      "source": [
        "def prediction(nlp_output):\n",
        "  decode_one_hot(new_model.predict([pipeline(nlp_output)])[0])\n",
        "\n"
      ]
    },
    {
      "cell_type": "code",
      "execution_count": 198,
      "metadata": {
        "colab": {
          "base_uri": "https://localhost:8080/"
        },
        "id": "LheA8q84Trj8",
        "outputId": "2d82d12e-e53a-4799-ced5-ab6fae3ac639"
      },
      "outputs": [
        {
          "name": "stdout",
          "output_type": "stream",
          "text": [
            "1/1 [==============================] - 0s 40ms/step\n",
            "Acne     Probability :42.990899085998535\n"
          ]
        }
      ],
      "source": [
        "d={'symptoms': ['skin_rash', 'blackheads'], 'sex': 'Female', 'age': '26'}\n",
        "\n",
        "prediction(d)"
      ]
    }
  ],
  "metadata": {
    "colab": {
      "provenance": []
    },
    "kernelspec": {
      "display_name": "Python 3",
      "name": "python3"
    },
    "language_info": {
      "codemirror_mode": {
        "name": "ipython",
        "version": 3
      },
      "file_extension": ".py",
      "mimetype": "text/x-python",
      "name": "python",
      "nbconvert_exporter": "python",
      "pygments_lexer": "ipython3",
      "version": "3.9.16"
    }
  },
  "nbformat": 4,
  "nbformat_minor": 0
}
